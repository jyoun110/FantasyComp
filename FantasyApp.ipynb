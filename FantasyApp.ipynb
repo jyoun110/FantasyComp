{
 "cells": [
  {
   "cell_type": "code",
   "execution_count": null,
   "metadata": {},
   "outputs": [],
   "source": [
    "import pandas as pd\n",
    "import yahoo_fantasy_api as yfa\n",
    "from yahoo_oauth import OAuth2\n",
    "#import yahoofantasy\n",
    "import os"
   ]
  },
  {
   "cell_type": "code",
   "execution_count": null,
   "metadata": {},
   "outputs": [],
   "source": [
    "#Auth\n",
    "sc = OAuth2(None, None, from_file=\"YahooAuth.json\")"
   ]
  },
  {
   "cell_type": "code",
   "execution_count": null,
   "metadata": {},
   "outputs": [],
   "source": [
    "sc.refresh_access_token()"
   ]
  },
  {
   "cell_type": "code",
   "execution_count": null,
   "metadata": {},
   "outputs": [],
   "source": [
    "#Get Game object\n",
    "gm = yfa.Game(sc, 'nba')"
   ]
  },
  {
   "cell_type": "code",
   "execution_count": null,
   "metadata": {},
   "outputs": [],
   "source": [
    "leagues = gm.league_ids()\n",
    "league = gm.to_league(leagues[-1])"
   ]
  },
  {
   "cell_type": "code",
   "execution_count": null,
   "metadata": {},
   "outputs": [],
   "source": [
    "#Dict of categories\n",
    "categories = {\n",
    "    \"5\": \"FG%\",\n",
    "    \"8\": \"FT%\",\n",
    "    \"10\": \"3PM\",\n",
    "    \"12\": \"PTS\",\n",
    "    \"15\": \"REB\",\n",
    "    \"16\": \"AST\",\n",
    "    \"17\": \"STL\",\n",
    "    \"18\": \"BLK\",\n",
    "    \"19\": \"TO\"\n",
    "}"
   ]
  },
  {
   "cell_type": "code",
   "execution_count": null,
   "metadata": {},
   "outputs": [],
   "source": [
    "all_weeks_data = []\n",
    "\n",
    "# Loop over each week to gather data\n",
    "for week in range(1, 23):  # Weeks 1 to 23\n",
    "    # Fetch matchups data for the specific week\n",
    "    data = league.matchups(week=week)['fantasy_content']['league'][1]['scoreboard']['0']['matchups']\n",
    "    \n",
    "    # Iterate over each matchup and team to extract stats\n",
    "    for matchup_id, matchup_data in data.items():\n",
    "        # Check that matchup_data is a dictionary\n",
    "        if not isinstance(matchup_data, dict):\n",
    "            continue  # Skip non-dictionary entries\n",
    "\n",
    "        matchup = matchup_data.get('matchup')\n",
    "        if not matchup:\n",
    "            continue\n",
    "\n",
    "        # Go through each team in the matchup, ensure '0' key exists and is a dictionary\n",
    "        teams = matchup.get('0', {}).get('teams', {})\n",
    "        if not isinstance(teams, dict):\n",
    "            continue\n",
    "\n",
    "        for team_key, team_data in teams.items():\n",
    "            # Check that team_data is a dictionary and has the expected structure\n",
    "            if not isinstance(team_data, dict) or 'team' not in team_data:\n",
    "                continue\n",
    "            if not isinstance(team_data['team'], list) or len(team_data['team']) < 2:\n",
    "                continue\n",
    "\n",
    "            team = team_data['team'][0]  # Access the team list\n",
    "            team_name = team[2]['name']  # Extract team name\n",
    "\n",
    "            # Initialize the row with the team name and the week\n",
    "            team_row = {'Manager': team_name, 'Week': f\"{week}\"}\n",
    "\n",
    "            # Fetch team stats for the week\n",
    "            stats = team_data['team'][1].get('team_stats', {}).get('stats', [])\n",
    "            \n",
    "            # Extract relevant stats by stat_id\n",
    "            for stat in stats:\n",
    "                stat_id = stat['stat']['stat_id']\n",
    "                if stat_id in categories:\n",
    "                    stat_name = categories[stat_id]\n",
    "                    team_row[stat_name] = stat['stat']['value']\n",
    "\n",
    "            # Get the games played and remaining games\n",
    "            games_info = team_data['team'][1].get('team_remaining_games', {}).get('total', {})\n",
    "            games_played = games_info.get('completed_games', 0)\n",
    "            remaining_games = games_info.get('remaining_games', 0)\n",
    "            \n",
    "            # Calculate total games and format as \"games played / total games\"\n",
    "            total_games = games_played + remaining_games\n",
    "            team_row['Games Played'] = f\"{games_played}/{total_games}\"\n",
    "\n",
    "            # Add team row to the list for all weeks\n",
    "            all_weeks_data.append(team_row)\n",
    "\n",
    "# Convert the list of all weeks data to a single DataFrame\n",
    "all_data = pd.DataFrame(all_weeks_data)"
   ]
  },
  {
   "cell_type": "code",
   "execution_count": null,
   "metadata": {},
   "outputs": [],
   "source": [
    "all_data"
   ]
  },
  {
   "cell_type": "code",
   "execution_count": null,
   "metadata": {},
   "outputs": [],
   "source": [
    "all_data.to_excel('output.xlsx',index=False)"
   ]
  }
 ],
 "metadata": {
  "kernelspec": {
   "display_name": "fantasy",
   "language": "python",
   "name": "python3"
  },
  "language_info": {
   "codemirror_mode": {
    "name": "ipython",
    "version": 3
   },
   "file_extension": ".py",
   "mimetype": "text/x-python",
   "name": "python",
   "nbconvert_exporter": "python",
   "pygments_lexer": "ipython3",
   "version": "3.13.5"
  }
 },
 "nbformat": 4,
 "nbformat_minor": 2
}
